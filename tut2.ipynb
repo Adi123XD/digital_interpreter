{
 "cells": [
  {
   "cell_type": "code",
   "execution_count": 1,
   "id": "b9756b0e-9cfa-461f-95dc-760d12c1a996",
   "metadata": {},
   "outputs": [],
   "source": [
    "import mediapipe as mp\n",
    "import cv2\n",
    "import numpy as np"
   ]
  },
  {
   "cell_type": "code",
   "execution_count": 1,
   "id": "25ae0b1c-b0ad-4fca-bf4c-7cea8499d707",
   "metadata": {},
   "outputs": [],
   "source": [
    "import cv2\n",
    "import mediapipe as mp\n",
    "\n",
    "mp_drawing = mp.solutions.drawing_utils\n",
    "mp_hands = mp.solutions.hands\n",
    "mp_face_mesh = mp.solutions.face_mesh\n",
    "\n",
    "# Initialize the hand and face mesh models\n",
    "hands = mp_hands.Hands(static_image_mode=True, min_detection_confidence=0.7)\n",
    "face_mesh = mp_face_mesh.FaceMesh(static_image_mode=True, min_detection_confidence=0.7, min_tracking_confidence=0.7)\n",
    "\n",
    "cap = cv2.VideoCapture(0)\n",
    "\n",
    "while True:\n",
    "    ret, frame = cap.read()\n",
    "    frame = cv2.cvtColor(frame, cv2.COLOR_BGR2RGB)\n",
    "\n",
    "    # Process hand landmarks\n",
    "    op_hands = hands.process(frame)\n",
    "    if op_hands.multi_hand_landmarks:\n",
    "        for landmarks in op_hands.multi_hand_landmarks:\n",
    "            mp_drawing.draw_landmarks(frame, landmarks, mp_hands.HAND_CONNECTIONS)\n",
    "\n",
    "    # Process face landmarks\n",
    "    op_face = face_mesh.process(frame)\n",
    "    if op_face.multi_face_landmarks:\n",
    "        for landmarks in op_face.multi_face_landmarks:\n",
    "            mp_drawing.draw_landmarks(frame, landmarks, mp_face_mesh.FACEMESH_CONTOURS, landmark_drawing_spec=mp_drawing.DrawingSpec(color=(255, 0, 0), circle_radius=1))\n",
    "\n",
    "    cv2.imshow(\"window\", frame)\n",
    "    \n",
    "    if cv2.waitKey(1) == 27:\n",
    "        cap.release()\n",
    "        cv2.destroyAllWindows()\n",
    "        break\n"
   ]
  },
  {
   "cell_type": "code",
   "execution_count": null,
   "id": "3e327977-cea6-4da2-981b-e325c8dea951",
   "metadata": {},
   "outputs": [],
   "source": []
  }
 ],
 "metadata": {
  "kernelspec": {
   "display_name": "Python 3 (ipykernel)",
   "language": "python",
   "name": "python3"
  },
  "language_info": {
   "codemirror_mode": {
    "name": "ipython",
    "version": 3
   },
   "file_extension": ".py",
   "mimetype": "text/x-python",
   "name": "python",
   "nbconvert_exporter": "python",
   "pygments_lexer": "ipython3",
   "version": "3.8.7"
  }
 },
 "nbformat": 4,
 "nbformat_minor": 5
}
