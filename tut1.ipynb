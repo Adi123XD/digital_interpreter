{
 "cells": [
  {
   "cell_type": "code",
   "execution_count": 1,
   "id": "3d9ac174-6f80-471e-a14d-4c02587e8c6c",
   "metadata": {},
   "outputs": [],
   "source": [
    "import mediapipe as mp\n",
    "import numpy as np\n",
    "import cv2"
   ]
  },
  {
   "cell_type": "code",
   "execution_count": 4,
   "id": "7a41bbce-cc78-41d0-8c42-2182b4b96bf5",
   "metadata": {},
   "outputs": [],
   "source": [
    "cap =cv2.VideoCapture(0)\n",
    "facemesh =mp.solutions.face_mesh\n",
    "draw = mp.solutions.drawing_utils\n",
    "face=facemesh.FaceMesh(static_image_mode=True,min_detection_confidence=0.6,\n",
    "    min_tracking_confidence=0.6)\n",
    "while True:\n",
    "    ret,frame=cap.read()\n",
    "    frame = cv2.cvtColor(frame,cv2.COLOR_BGR2RGB)\n",
    "    op=face.process(frame)\n",
    "    if op.multi_face_landmarks:\n",
    "        for i in op.multi_face_landmarks:\n",
    "            draw.draw_landmarks(frame,i,facemesh.FACEMESH_CONTOURS , landmark_drawing_spec=draw.DrawingSpec(color=(255,0,0),circle_radius=1))\n",
    "    cv2.imshow(\"window\",frame)\n",
    "    if cv2.waitKey(1)==27:\n",
    "        cap.release()\n",
    "        cv2.destroyAllWindows()\n",
    "        break\n",
    "    "
   ]
  },
  {
   "cell_type": "code",
   "execution_count": null,
   "id": "800291d8-6a77-4b06-9d58-27fc639ea44a",
   "metadata": {},
   "outputs": [],
   "source": []
  }
 ],
 "metadata": {
  "kernelspec": {
   "display_name": "Python 3 (ipykernel)",
   "language": "python",
   "name": "python3"
  },
  "language_info": {
   "codemirror_mode": {
    "name": "ipython",
    "version": 3
   },
   "file_extension": ".py",
   "mimetype": "text/x-python",
   "name": "python",
   "nbconvert_exporter": "python",
   "pygments_lexer": "ipython3",
   "version": "3.8.7"
  }
 },
 "nbformat": 4,
 "nbformat_minor": 5
}
